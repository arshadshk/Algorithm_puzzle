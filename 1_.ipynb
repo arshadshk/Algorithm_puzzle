{
  "nbformat": 4,
  "nbformat_minor": 0,
  "metadata": {
    "colab": {
      "name": "1-.ipynb",
      "version": "0.3.2",
      "provenance": []
    },
    "kernelspec": {
      "name": "python3",
      "display_name": "Python 3"
    },
    "accelerator": "GPU"
  },
  "cells": [
    {
      "metadata": {
        "id": "oIORhLQil3Ni",
        "colab_type": "code",
        "colab": {}
      },
      "cell_type": "code",
      "source": [
        "from itertools import permutations \n",
        "import time as time\n",
        "import numpy as np"
      ],
      "execution_count": 0,
      "outputs": []
    },
    {
      "metadata": {
        "id": "k2BJDBQFl9t0",
        "colab_type": "code",
        "colab": {}
      },
      "cell_type": "code",
      "source": [
        "# Let the Hunter, Wolf, Goat, Cabbage be H,W,G,C respectively. \n",
        "\n",
        "def solve(n):\n",
        "    start = time.time()\n",
        "    n = int(n)\n",
        "    W=['W']*n\n",
        "    C=['C']*n\n",
        "    H=['H']*n\n",
        "    G=['G']*n\n",
        "    \n",
        "    a = W+C+H+G\n",
        "    comb = list(permutations(a))\n",
        "    \n",
        "    p =[]\n",
        "    for each in comb:\n",
        "        p.append(list(each))\n",
        "    #print(p)\n",
        "    main = []\n",
        "    \n",
        "    for each in p:\n",
        "        temp = each\n",
        "        t=0\n",
        "        for e in range(0,len(each)-1):\n",
        "          \n",
        "            # This are the conditions to be statisfied to get a perfect combination\n",
        "            \n",
        "            if temp[e] == 'H' and temp[e+1]=='W':\n",
        "                t=t+1\n",
        "            elif temp[e] == 'W' and temp[e+1]=='H':\n",
        "                t =t+1\n",
        "                \n",
        "            elif temp[e] == 'W' and temp[e+1]=='G':\n",
        "                t=t+1\n",
        "            elif temp[e] == 'G' and temp[e+1]=='W':\n",
        "                t=t+1\n",
        "                \n",
        "            elif temp[e] == 'C' and temp[e+1]=='G':\n",
        "                t=t+1\n",
        "            elif temp[e] == 'G' and temp[e+1]=='C':\n",
        "                t=t+1\n",
        "            \n",
        "            elif temp[e] == 'W' and temp[e+1]=='W':\n",
        "              t = t+1\n",
        "            elif temp[e] == 'H' and temp[e+1]=='H':\n",
        "               t = t+1\n",
        "            elif temp[e] == 'C' and temp[e+1]=='C':\n",
        "               t = t+1\n",
        "            elif temp[e] == 'G' and temp[e+1]=='G':\n",
        "               t = t+1\n",
        "            \n",
        "        if t == 0:\n",
        "            main.append(each)  \n",
        "        main_f =[]\n",
        "        for i in main:\n",
        "          if i not in main_f:\n",
        "            main_f.append(i)\n",
        "         \n",
        "          \n",
        "          \n",
        "    end = time.time()      \n",
        "    print('Total no. of combination is',len(main_f),'\\n Following are the combination \\n')\n",
        "    \n",
        "    for e in main_f:\n",
        "      print(e)\n",
        "    print('\\n Total possible combinations executed =',np.power( (4*n),(4*n) ) )\n",
        "    print('\\nTime taken to solve for n =',n,'is',end-start,'sec')\n",
        "            \n",
        "                \n",
        "                       \n",
        "            "
      ],
      "execution_count": 0,
      "outputs": []
    },
    {
      "metadata": {
        "id": "FT8OIjTrmBdq",
        "colab_type": "code",
        "outputId": "1b3c8e91-f0be-4919-9325-b02033204ec3",
        "colab": {
          "base_uri": "https://localhost:8080/",
          "height": 170
        }
      },
      "cell_type": "code",
      "source": [
        "solve(1)"
      ],
      "execution_count": 0,
      "outputs": [
        {
          "output_type": "stream",
          "text": [
            "Total no. of combination is 2 \n",
            " Following are the combination \n",
            "\n",
            "['W', 'C', 'H', 'G']\n",
            "['G', 'H', 'C', 'W']\n",
            "\n",
            " Total possible combinations executed = 256\n",
            "\n",
            "Time taken to solve for n = 1 is 7.677078247070312e-05 sec\n"
          ],
          "name": "stdout"
        }
      ]
    },
    {
      "metadata": {
        "id": "UPfy0kiHmC9D",
        "colab_type": "code",
        "outputId": "ef5c9ebe-9c40-43fa-c9d9-663065937c81",
        "colab": {
          "base_uri": "https://localhost:8080/",
          "height": 170
        }
      },
      "cell_type": "code",
      "source": [
        "solve(2)"
      ],
      "execution_count": 0,
      "outputs": [
        {
          "output_type": "stream",
          "text": [
            "Total no. of combination is 2 \n",
            " Following are the combination \n",
            "\n",
            "['W', 'C', 'W', 'C', 'H', 'G', 'H', 'G']\n",
            "['G', 'H', 'G', 'H', 'C', 'W', 'C', 'W']\n",
            "\n",
            " Total possible combinations executed = 16777216\n",
            "\n",
            "Time taken to solve for n = 2 is 0.2397325038909912 sec\n"
          ],
          "name": "stdout"
        }
      ]
    },
    {
      "metadata": {
        "id": "ud4vRwzOtZ9j",
        "colab_type": "code",
        "colab": {}
      },
      "cell_type": "code",
      "source": [
        "solve(3) \n",
        "#Though for all this two combinations - WCWCWC... WCHGHGHG  and  GHGHGH... GHCWCWCW  are only possible.\n",
        "#for all n only 2 possible combinations are available.\n",
        "# The session crashes for values of n > 2 , Also tried with the GPU environment but same result.\n",
        "# for n=3 total possible combinations to be computed are 8916100448256 .\n",
        "# Any possible algorithm to use for this many no. of combinations then please let me know.\n",
        "#ARSHAD SHAIKH"
      ],
      "execution_count": 0,
      "outputs": []
    }
  ]
}