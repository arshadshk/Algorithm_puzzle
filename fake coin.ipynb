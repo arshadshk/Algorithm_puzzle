{
 "cells": [
  {
   "cell_type": "code",
   "execution_count": 57,
   "metadata": {},
   "outputs": [],
   "source": [
    "d = { 'A':1,'B':1,'C':1,'E':1,'F':0,'G':1,'H':1,'I':1 }\n",
    "\n"
   ]
  },
  {
   "cell_type": "code",
   "execution_count": 58,
   "metadata": {},
   "outputs": [],
   "source": [
    "def find_it(a):\n",
    "        \n",
    "    # Storing values in two separate lists\n",
    "    print('Initial weights ----- ',a)\n",
    "    key = [x for x in a.keys()]\n",
    "    values = [x for x in a.values()]\n",
    "    print(key,values)\n",
    "    \n",
    "    # iteration 1- spliting in two halves\n",
    "    \n",
    "    cup1 = [key[x] for x in range(0,4)]\n",
    "    cup1_val = [values[x] for x in range(0,4)]\n",
    "    \n",
    "    cup2 = [key[x] for x in range(4,8)]   \n",
    "    cup2_val = [values[x] for x in range(4,8)]\n",
    "    \n",
    "    print('iteration 1 -- resulting weights--',cup1)\n",
    "    print('--------------')\n",
    "    print(cup2)\n",
    "\n",
    "      \n",
    "    #iteration 1\n",
    "    \n",
    "    lighter_cup = 0\n",
    "    lighter_cup_keys = 0\n",
    "    \n",
    "    if sum(cup1_val) < sum(cup2_val):\n",
    "        lighter_cup = cup1_val\n",
    "        lighter_cup_keys = cup1\n",
    "    else:\n",
    "        lighter_cup = cup2_val\n",
    "        lighter_cup_keys = cup2\n",
    "        \n",
    "    print('Iteration 2 resulting cup -------', lighter_cup_keys,lighter_cup)\n",
    "        \n",
    "    #iteration 2\n",
    "    \n",
    "    lighter_cup_1 = [lighter_cup[x] for x in range(  0,int(len(lighter_cup)/2)  )  ]\n",
    "    lighter_cup_1_keys = [lighter_cup_keys[x] for x in range(  0,int(len(lighter_cup_keys)/2)  )  ]\n",
    "    \n",
    "    lighter_cup_2 = [lighter_cup[x] for x in range(  int(len(lighter_cup)/2)  , len(lighter_cup))]\n",
    "    lighter_cup_2_keys = [lighter_cup_keys[x] for x in range(  int(len(lighter_cup_1)/2)  , len(lighter_cup_keys))]\n",
    "    \n",
    "    lighter_2 = 0\n",
    "    lighter_2_keys = 0\n",
    "    \n",
    "    if sum(lighter_cup_1) < sum(lighter_cup_2):\n",
    "        lighter_2 = lighter_cup_1\n",
    "        lighter_2_keys = lighter_cup_1_keys\n",
    "    else:\n",
    "        lighter_2 = lighter_cup_2\n",
    "        lighter_2_keys = lighter_cup_2_keys\n",
    "        \n",
    "    print('Iteration 3 resulting cup ------ ', lighter_2_keys)\n",
    "    # iteration 3 - (only 2 values left)\n",
    "    \n",
    "    final_1 = [lighter_2[x] for x in range(0,int(len(lighter_2)/2))]\n",
    "    final_1_key = [lighter_2_keys[x] for x in range(0,int(len(lighter_2_keys)/2))]\n",
    "    \n",
    "    final_2 = [lighter_2[x] for x in range(int(len(lighter_2)/2), len(lighter_2))]\n",
    "    final_2_key = [lighter_2_keys[x] for x in range(int(len(lighter_2_keys)/2), len(lighter_2_keys))]\n",
    "    \n",
    "    final = 0\n",
    "    \n",
    "    if sum(final_1) < sum(final_2):\n",
    "        final = final_1_key\n",
    "    else:\n",
    "        final = final_2_key\n",
    "        \n",
    "    print('The fake coin is -----',final)\n",
    "    \n",
    "    \n",
    "        \n",
    "    \n",
    "    \n",
    "        \n",
    "    \n",
    "    \n",
    "\n",
    "        \n",
    "    \n",
    "        \n",
    "        \n",
    "    \n",
    "    \n",
    "    \n",
    "        "
   ]
  },
  {
   "cell_type": "code",
   "execution_count": 59,
   "metadata": {},
   "outputs": [
    {
     "name": "stdout",
     "output_type": "stream",
     "text": [
      "Initial weights -----  {'A': 1, 'B': 1, 'C': 1, 'E': 1, 'F': 0, 'G': 1, 'H': 1, 'I': 1}\n",
      "['A', 'B', 'C', 'E', 'F', 'G', 'H', 'I'] [1, 1, 1, 1, 0, 1, 1, 1]\n",
      "iteration 1 -- resulting weights-- ['A', 'B', 'C', 'E']\n",
      "--------------\n",
      "['F', 'G', 'H', 'I']\n",
      "Iteration 2 resulting cup ------- ['F', 'G', 'H', 'I'] [0, 1, 1, 1]\n",
      "Iteration 3 resulting cup ------  ['F', 'G']\n",
      "The fake coin is ----- ['F']\n"
     ]
    }
   ],
   "source": [
    "find_it(d)"
   ]
  },
  {
   "cell_type": "code",
   "execution_count": null,
   "metadata": {},
   "outputs": [],
   "source": []
  }
 ],
 "metadata": {
  "kernelspec": {
   "display_name": "Python 3",
   "language": "python",
   "name": "python3"
  },
  "language_info": {
   "codemirror_mode": {
    "name": "ipython",
    "version": 3
   },
   "file_extension": ".py",
   "mimetype": "text/x-python",
   "name": "python",
   "nbconvert_exporter": "python",
   "pygments_lexer": "ipython3",
   "version": "3.6.5"
  }
 },
 "nbformat": 4,
 "nbformat_minor": 2
}
